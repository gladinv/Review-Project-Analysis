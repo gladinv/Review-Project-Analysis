{
 "cells": [
  {
   "cell_type": "markdown",
   "id": "131bfd95",
   "metadata": {},
   "source": [
    "### Import Libraries and Load the Data"
   ]
  },
  {
   "cell_type": "code",
   "execution_count": 8,
   "id": "823b550f",
   "metadata": {},
   "outputs": [],
   "source": [
    "#data manipulation\n",
    "import numpy as np\n",
    "import pandas as pd\n",
    "import tqdm\n",
    "#file and system operations\n",
    "import os\n",
    "import sys\n",
    "assert sys.version_info >= (3,5)\n",
    "#visualization imports\n",
    "import matplotlib.pyplot as plt\n",
    "import seaborn as sns\n",
    "%matplotlib inline\n",
    "#consistent sized plots\n",
    "from pylab import rcParams\n",
    "rcParams['figure.figsize']=12,5\n",
    "rcParams['axes.labelsize']=12\n",
    "rcParams['ytick.labelsize']=12\n",
    "rcParams['xtick.labelsize']=12\n",
    "#handle unwanted warnings \n",
    "import warnings\n",
    "warnings.filterwarnings(action='ignore',category=DeprecationWarning)\n",
    "warnings.filterwarnings(action='ignore',category=FutureWarning)\n",
    "#view all the columns\n",
    "pd.options.display.max_columns = None\n",
    "#basic text manipulation libraries\n",
    "from nltk.tokenize import word_tokenize\n",
    "from nltk.tokenize import sent_tokenize\n",
    "from nltk.corpus import stopwords\n",
    "from nltk.stem import SnowballStemmer\n",
    "from nltk.stem import WordNetLemmatizer"
   ]
  },
  {
   "cell_type": "markdown",
   "id": "92b0ff3d",
   "metadata": {},
   "source": [
    "### Load the Reviews Data"
   ]
  },
  {
   "cell_type": "code",
   "execution_count": 9,
   "id": "63c8b649",
   "metadata": {},
   "outputs": [
    {
     "data": {
      "text/html": [
       "<div>\n",
       "<style scoped>\n",
       "    .dataframe tbody tr th:only-of-type {\n",
       "        vertical-align: middle;\n",
       "    }\n",
       "\n",
       "    .dataframe tbody tr th {\n",
       "        vertical-align: top;\n",
       "    }\n",
       "\n",
       "    .dataframe thead th {\n",
       "        text-align: right;\n",
       "    }\n",
       "</style>\n",
       "<table border=\"1\" class=\"dataframe\">\n",
       "  <thead>\n",
       "    <tr style=\"text-align: right;\">\n",
       "      <th></th>\n",
       "      <th>sentiment</th>\n",
       "      <th>review</th>\n",
       "    </tr>\n",
       "  </thead>\n",
       "  <tbody>\n",
       "    <tr>\n",
       "      <th>0</th>\n",
       "      <td>1</td>\n",
       "      <td>Good but need updates and improvements</td>\n",
       "    </tr>\n",
       "    <tr>\n",
       "      <th>1</th>\n",
       "      <td>0</td>\n",
       "      <td>Worst mobile i have bought ever, Battery is dr...</td>\n",
       "    </tr>\n",
       "    <tr>\n",
       "      <th>2</th>\n",
       "      <td>1</td>\n",
       "      <td>when I will get my 10% cash back.... its alrea...</td>\n",
       "    </tr>\n",
       "  </tbody>\n",
       "</table>\n",
       "</div>"
      ],
      "text/plain": [
       "   sentiment                                             review\n",
       "0          1             Good but need updates and improvements\n",
       "1          0  Worst mobile i have bought ever, Battery is dr...\n",
       "2          1  when I will get my 10% cash back.... its alrea..."
      ]
     },
     "execution_count": 9,
     "metadata": {},
     "output_type": "execute_result"
    }
   ],
   "source": [
    "reviews = pd.read_csv('K8 Reviews v0.2.csv',delimiter=',',engine='python')\n",
    "reviews.head(3)"
   ]
  },
  {
   "cell_type": "code",
   "execution_count": 10,
   "id": "eb267f3a",
   "metadata": {},
   "outputs": [
    {
     "data": {
      "text/plain": [
       "14675"
      ]
     },
     "execution_count": 10,
     "metadata": {},
     "output_type": "execute_result"
    }
   ],
   "source": [
    "#check the number of reviews \n",
    "len(reviews)"
   ]
  },
  {
   "cell_type": "code",
   "execution_count": 11,
   "id": "b778d3fd",
   "metadata": {},
   "outputs": [
    {
     "name": "stdout",
     "output_type": "stream",
     "text": [
      "<class 'pandas.core.frame.DataFrame'>\n",
      "RangeIndex: 14675 entries, 0 to 14674\n",
      "Data columns (total 2 columns):\n",
      " #   Column     Non-Null Count  Dtype \n",
      "---  ------     --------------  ----- \n",
      " 0   sentiment  14675 non-null  int64 \n",
      " 1   review     14675 non-null  object\n",
      "dtypes: int64(1), object(1)\n",
      "memory usage: 229.4+ KB\n"
     ]
    }
   ],
   "source": [
    "#check the basic info\n",
    "reviews.info()"
   ]
  },
  {
   "cell_type": "code",
   "execution_count": 14,
   "id": "73927373",
   "metadata": {},
   "outputs": [
    {
     "data": {
      "text/plain": [
       "0    7712\n",
       "1    6963\n",
       "Name: sentiment, dtype: int64"
      ]
     },
     "execution_count": 14,
     "metadata": {},
     "output_type": "execute_result"
    }
   ],
   "source": [
    "#check the sentiment labels\n",
    "reviews['sentiment'].value_counts()"
   ]
  },
  {
   "cell_type": "code",
   "execution_count": 24,
   "id": "3ca2e2b6",
   "metadata": {},
   "outputs": [
    {
     "data": {
      "image/png": "[encoded data removed]",
      "text/plain": [
       "<Figure size 864x360 with 1 Axes>"
      ]
     },
     "metadata": {
      "needs_background": "light"
     },
     "output_type": "display_data"
    }
   ],
   "source": [
    "sns.countplot(x ='sentiment', data = reviews)\n",
    "plt.title('Count of the review sentiments')\n",
    "plt.show()"
   ]
  },
  {
   "cell_type": "code",
   "execution_count": 25,
   "id": "3399f8da",
   "metadata": {},
   "outputs": [
    {
     "name": "stdout",
     "output_type": "stream",
     "text": [
      "Bought this phone, and within 3 months its front ear speaker failed. I was not expecting this quality of hardware from lenovo.This happened within warranty, how can I get a replacement?\n"
     ]
    }
   ],
   "source": [
    "#check randomly any of the reviews\n",
    "random = np.random.randint(1,len(reviews))\n",
    "print(reviews['review'][random])"
   ]
  },
  {
   "cell_type": "markdown",
   "id": "c889222a",
   "metadata": {},
   "source": [
    "### Text Preprocessing\n",
    "_Following steps will be performed_\n",
    "- _Tokenization - Split the text into sentences and sentences into words. Lowercase the words and remove any punctuation_\n",
    "- _Words that are fewer than 3 characters will be removed_\n",
    "- _All stopwords will be removed_\n",
    "- _Words are lemmatized - words in third person are changed to first person and words in future and past tense are changed to present tense_\n",
    "- _Words are stemmed - words are reduced to the root form_"
   ]
  },
  {
   "cell_type": "code",
   "execution_count": 26,
   "id": "9034d206",
   "metadata": {},
   "outputs": [],
   "source": [
    "#load the gensim library\n",
    "import gensim"
   ]
  },
  {
   "cell_type": "code",
   "execution_count": 29,
   "id": "d9c23ab2",
   "metadata": {},
   "outputs": [],
   "source": [
    "# Write a function to proprocess the entire dataset \n",
    "\n",
    "stemmer = SnowballStemmer('english')\n",
    "\n",
    "def lemmatize_stemming(text):\n",
    "    #This function will lemmatize on Noun POS and stem the text\n",
    "    return stemmer.stem(WordNetLemmatizer().lemmatize(text,pos='n'))\n",
    "    #return (WordNetLemmatizer().lemmatize(text,pos='n'))\n",
    "\n",
    "#tokenize and lemmatize\n",
    "def preprocess(text):\n",
    "    #Function to break into word tokens, remove stopwords, remove short words and finally to lemmatize and stem the individual tokens\n",
    "    result = []\n",
    "    for token in gensim.utils.simple_preprocess(text):\n",
    "        if token not in gensim.parsing.preprocessing.STOPWORDS and len(token) > 3:\n",
    "            result.append(lemmatize_stemming(token))\n",
    "    return result"
   ]
  },
  {
   "cell_type": "code",
   "execution_count": 30,
   "id": "00969210",
   "metadata": {},
   "outputs": [
    {
     "name": "stdout",
     "output_type": "stream",
     "text": [
      "['worst', 'camera', 'seen', 'configur', 'mobil', 'phone', 'better', 'camera', 'resolut', 'batteri', 'drain', 'faster']\n"
     ]
    }
   ],
   "source": [
    "#check for a sample review\n",
    "result = preprocess('The worst camera I have ever seen. Even my very old configuration mobile phone had a better camera resolution. Battery draining faster.')\n",
    "print(result)"
   ]
  },
  {
   "cell_type": "code",
   "execution_count": 31,
   "id": "987b0508",
   "metadata": {},
   "outputs": [],
   "source": [
    "processed_docs = []\n",
    "\n",
    "#uncomment below line to find the topics for a particular sentiment\n",
    "#reviews = reviews[reviews['sentiment']==1]\n",
    "\n",
    "for doc in reviews['review']:\n",
    "    processed_docs.append(preprocess(doc))"
   ]
  },
  {
   "cell_type": "code",
   "execution_count": 32,
   "id": "9beeedc4",
   "metadata": {},
   "outputs": [
    {
     "name": "stdout",
     "output_type": "stream",
     "text": [
      "[['good', 'need', 'updat', 'improv'], ['worst', 'mobil', 'bought', 'batteri', 'drain', 'like', 'hell', 'backup', 'hour', 'internet', 'us', 'mobil', 'idl', 'get', 'discharg', 'biggest', 'amazon', 'lenov', 'expect', 'make', 'say', 'batteri', 'booster', 'charger', 'fake', 'take', 'hour', 'fulli', 'charg', 'know', 'lenovo', 'surviv', 'make', 'regret', 'like'], ['cash', 'januari'], ['good'], ['worst', 'phone', 'everthey', 'chang', 'phone', 'problem', 'amazon', 'return', 'phone', 'high', 'disappoint', 'amazon'], ['tell', 'buyi', 'total', 'batterypoor', 'camerawast', 'money'], ['phone', 'awesom', 'charg', 'heat', 'allot', 'genuin', 'reason', 'hate', 'lenovo', 'note'], ['batteri', 'level', 'worn'], ['hit', 'problem', 'phone', 'hang', 'problem', 'lenovo', 'note', 'servic', 'station', 'ahmedabad', 'year', 'warranti', 'chang', 'phone', 'lenovo'], ['glitch', 'dont', 'thing', 'better', 'option']]\n"
     ]
    }
   ],
   "source": [
    "print(processed_docs[:10])"
   ]
  },
  {
   "cell_type": "markdown",
   "id": "43a71740",
   "metadata": {},
   "source": [
    "### Bag of Words on the Dataset"
   ]
  },
  {
   "cell_type": "code",
   "execution_count": 33,
   "id": "29efe56b",
   "metadata": {},
   "outputs": [],
   "source": [
    "# Create a dictionary of the words which appear in the entire corpus\n",
    "\n",
    "dictionary = gensim.corpora.Dictionary(processed_docs)"
   ]
  },
  {
   "cell_type": "code",
   "execution_count": 34,
   "id": "118ea278",
   "metadata": {},
   "outputs": [
    {
     "data": {
      "text/plain": [
       "[0, 1, 2, 3, 4, 5, 6, 7, 8, 9]"
      ]
     },
     "execution_count": 34,
     "metadata": {},
     "output_type": "execute_result"
    }
   ],
   "source": [
    "dictionary.keys()[:10]"
   ]
  },
  {
   "cell_type": "code",
   "execution_count": 35,
   "id": "4741d7ca",
   "metadata": {},
   "outputs": [
    {
     "name": "stdout",
     "output_type": "stream",
     "text": [
      "0 good\n",
      "1 improv\n",
      "2 need\n",
      "3 updat\n",
      "4 amazon\n",
      "5 backup\n",
      "6 batteri\n",
      "7 biggest\n",
      "8 booster\n",
      "9 bought\n",
      "10 charg\n"
     ]
    }
   ],
   "source": [
    "#print a few words in the dictionary\n",
    "count = 0\n",
    "for k,v in dictionary.iteritems():\n",
    "    print(k,v)\n",
    "    count = count + 1\n",
    "    if count > 10:\n",
    "        break"
   ]
  },
  {
   "cell_type": "markdown",
   "id": "ebef5a61",
   "metadata": {},
   "source": [
    "### Gensim filter extremes\n",
    "- Remove or filter the words that appear less than nobelow\n",
    "- Remove or filter the words that apepar more than noabove (fraction)\n",
    "- After the above two steps keep only the n most frequent tokens or keep all"
   ]
  },
  {
   "cell_type": "code",
   "execution_count": 37,
   "id": "9c962b3c",
   "metadata": {},
   "outputs": [],
   "source": [
    "dictionary.filter_extremes(no_below=5,no_above=0.1,keep_n=None)"
   ]
  },
  {
   "cell_type": "markdown",
   "id": "cc98da26",
   "metadata": {},
   "source": [
    "### Gensim doc2bow\n",
    "- Create a bag of words for each document ie for each document we create a dictionary reporting how many words and how many times those words appear"
   ]
  },
  {
   "cell_type": "code",
   "execution_count": 38,
   "id": "9a2c5b29",
   "metadata": {},
   "outputs": [],
   "source": [
    "bow_corpus = [dictionary.doc2bow(doc) for doc in processed_docs]"
   ]
  },
  {
   "cell_type": "code",
   "execution_count": 39,
   "id": "348399f3",
   "metadata": {},
   "outputs": [
    {
     "data": {
      "text/plain": [
       "[[(57, 1)],\n",
       " [(9, 1), (58, 1), (59, 1)],\n",
       " [(60, 1), (61, 1), (62, 1), (63, 1)],\n",
       " [(29, 1), (35, 2), (59, 1), (61, 1), (64, 1), (65, 1)],\n",
       " [(4, 1), (66, 1), (67, 1), (68, 1), (69, 1)],\n",
       " [(70, 1), (71, 1)],\n",
       " [(72, 1), (73, 1), (74, 1), (75, 1)],\n",
       " [(3, 2),\n",
       "  (7, 1),\n",
       "  (76, 1),\n",
       "  (77, 2),\n",
       "  (78, 1),\n",
       "  (79, 1),\n",
       "  (80, 1),\n",
       "  (81, 1),\n",
       "  (82, 2),\n",
       "  (83, 1),\n",
       "  (84, 2),\n",
       "  (85, 1),\n",
       "  (86, 1)],\n",
       " [(11, 1), (20, 1), (38, 1), (61, 1), (87, 1), (88, 1), (89, 1)],\n",
       " [(90, 1)]]"
      ]
     },
     "execution_count": 39,
     "metadata": {},
     "output_type": "execute_result"
    }
   ],
   "source": [
    "bow_corpus[10:20]"
   ]
  },
  {
   "cell_type": "code",
   "execution_count": 40,
   "id": "31bef7ff",
   "metadata": {},
   "outputs": [
    {
     "name": "stdout",
     "output_type": "stream",
     "text": [
      "Word 7 bought appears 1 times\n",
      "Word 12 expect appears 1 times\n",
      "Word 50 warranti appears 1 times\n",
      "Word 59 month appears 1 times\n",
      "Word 92 speaker appears 1 times\n",
      "Word 136 qualiti appears 1 times\n",
      "Word 155 happen appears 1 times\n",
      "Word 211 hardwar appears 1 times\n",
      "Word 267 replac appears 1 times\n",
      "Word 975 fail appears 1 times\n"
     ]
    }
   ],
   "source": [
    "document_num = random\n",
    "bow_doc_x = bow_corpus[random]\n",
    "\n",
    "for i in range(len(bow_doc_x)):\n",
    "    print(f'Word {bow_doc_x[i][0]} {dictionary[bow_doc_x[i][0]]} appears {bow_doc_x[i][1]} times')"
   ]
  },
  {
   "cell_type": "markdown",
   "id": "06bd8e6f",
   "metadata": {},
   "source": [
    "### Running LDA using Bag of Words"
   ]
  },
  {
   "cell_type": "code",
   "execution_count": 41,
   "id": "66ea3d94",
   "metadata": {},
   "outputs": [],
   "source": [
    "#apply the gensim LDA model and generate 12 topics from the corpus\n",
    "seed = 41\n",
    "lda_model = gensim.models.LdaMulticore(corpus=bow_corpus,num_topics=12,id2word=dictionary,passes=10,workers=2,\n",
    "                                      random_state=seed,minimum_probability=0.05,alpha='symmetric')"
   ]
  },
  {
   "cell_type": "code",
   "execution_count": 42,
   "id": "dedd41f1",
   "metadata": {},
   "outputs": [
    {
     "name": "stdout",
     "output_type": "stream",
     "text": [
      "Topic: 0 \n",
      "Words: 0.079*\"charger\" + 0.075*\"great\" + 0.056*\"updat\" + 0.034*\"charg\" + 0.034*\"turbo\" + 0.022*\"life\" + 0.021*\"month\" + 0.021*\"receiv\" + 0.020*\"oreo\" + 0.019*\"slow\" + 0.016*\"perform\" + 0.016*\"piec\" + 0.013*\"android\" + 0.013*\"long\" + 0.013*\"fast\"\n",
      "\n",
      "\n",
      "Topic: 1 \n",
      "Words: 0.137*\"charg\" + 0.050*\"fast\" + 0.045*\"drain\" + 0.044*\"hour\" + 0.034*\"time\" + 0.031*\"get\" + 0.031*\"take\" + 0.020*\"turbo\" + 0.020*\"glass\" + 0.017*\"issu\" + 0.013*\"screen\" + 0.013*\"gorilla\" + 0.011*\"backup\" + 0.011*\"poor\" + 0.011*\"mark\"\n",
      "\n",
      "\n",
      "Topic: 2 \n",
      "Words: 0.121*\"problem\" + 0.080*\"issu\" + 0.047*\"network\" + 0.024*\"face\" + 0.021*\"connect\" + 0.020*\"hang\" + 0.020*\"updat\" + 0.016*\"time\" + 0.015*\"month\" + 0.014*\"automat\" + 0.014*\"replac\" + 0.013*\"get\" + 0.013*\"need\" + 0.013*\"restart\" + 0.013*\"softwar\"\n",
      "\n",
      "\n",
      "Topic: 3 \n",
      "Words: 0.051*\"amazon\" + 0.050*\"servic\" + 0.036*\"return\" + 0.031*\"like\" + 0.025*\"day\" + 0.024*\"purchas\" + 0.024*\"replac\" + 0.020*\"poor\" + 0.020*\"devic\" + 0.016*\"custom\" + 0.016*\"worst\" + 0.015*\"center\" + 0.012*\"month\" + 0.011*\"centr\" + 0.011*\"feel\"\n",
      "\n",
      "\n",
      "Topic: 4 \n",
      "Words: 0.033*\"featur\" + 0.033*\"support\" + 0.031*\"satisfi\" + 0.029*\"note\" + 0.022*\"worth\" + 0.018*\"android\" + 0.018*\"plus\" + 0.017*\"card\" + 0.016*\"slot\" + 0.016*\"volta\" + 0.015*\"user\" + 0.012*\"memori\" + 0.012*\"dual\" + 0.012*\"stock\" + 0.011*\"basic\"\n",
      "\n",
      "\n",
      "Topic: 5 \n",
      "Words: 0.047*\"screen\" + 0.046*\"expect\" + 0.043*\"problem\" + 0.037*\"speaker\" + 0.036*\"option\" + 0.034*\"cast\" + 0.026*\"avail\" + 0.022*\"miss\" + 0.021*\"like\" + 0.020*\"featur\" + 0.018*\"smart\" + 0.016*\"record\" + 0.014*\"headphon\" + 0.012*\"hang\" + 0.011*\"function\"\n",
      "\n",
      "\n",
      "Topic: 6 \n",
      "Words: 0.093*\"price\" + 0.088*\"best\" + 0.039*\"rang\" + 0.027*\"better\" + 0.024*\"amaz\" + 0.023*\"processor\" + 0.023*\"great\" + 0.021*\"qualiti\" + 0.021*\"perform\" + 0.020*\"featur\" + 0.017*\"look\" + 0.016*\"budget\" + 0.015*\"smartphon\" + 0.012*\"game\" + 0.011*\"core\"\n",
      "\n",
      "\n",
      "Topic: 7 \n",
      "Words: 0.286*\"nice\" + 0.123*\"awesom\" + 0.076*\"perform\" + 0.045*\"backup\" + 0.029*\"overal\" + 0.028*\"love\" + 0.024*\"issu\" + 0.020*\"game\" + 0.019*\"quick\" + 0.018*\"smooth\" + 0.017*\"featur\" + 0.016*\"handset\" + 0.014*\"littl\" + 0.013*\"look\" + 0.011*\"play\"\n",
      "\n",
      "\n",
      "Topic: 8 \n",
      "Words: 0.094*\"note\" + 0.057*\"excel\" + 0.049*\"amazon\" + 0.032*\"deliveri\" + 0.030*\"dolbi\" + 0.030*\"thank\" + 0.018*\"atmo\" + 0.017*\"sound\" + 0.017*\"killer\" + 0.015*\"time\" + 0.014*\"compar\" + 0.013*\"better\" + 0.013*\"fast\" + 0.012*\"redmi\" + 0.011*\"featur\"\n",
      "\n",
      "\n",
      "Topic: 9 \n",
      "Words: 0.035*\"proper\" + 0.020*\"record\" + 0.019*\"video\" + 0.018*\"amazon\" + 0.018*\"issu\" + 0.016*\"time\" + 0.014*\"connect\" + 0.014*\"call\" + 0.014*\"voic\" + 0.013*\"bluetooth\" + 0.012*\"signal\" + 0.011*\"play\" + 0.011*\"custom\" + 0.010*\"headset\" + 0.010*\"network\"\n",
      "\n",
      "\n",
      "Topic: 10 \n",
      "Words: 0.104*\"qualiti\" + 0.096*\"worst\" + 0.084*\"money\" + 0.051*\"poor\" + 0.046*\"wast\" + 0.037*\"super\" + 0.034*\"valu\" + 0.028*\"sound\" + 0.018*\"perform\" + 0.014*\"total\" + 0.012*\"backup\" + 0.012*\"disappoint\" + 0.011*\"experi\" + 0.011*\"issu\" + 0.011*\"clariti\"\n",
      "\n",
      "\n",
      "Topic: 11 \n",
      "Words: 0.030*\"mode\" + 0.022*\"depth\" + 0.022*\"dual\" + 0.020*\"averag\" + 0.014*\"superb\" + 0.014*\"note\" + 0.014*\"qualiti\" + 0.013*\"updat\" + 0.013*\"display\" + 0.012*\"like\" + 0.011*\"need\" + 0.010*\"effect\" + 0.010*\"light\" + 0.010*\"improv\" + 0.009*\"better\"\n",
      "\n",
      "\n"
     ]
    }
   ],
   "source": [
    "# For each topic, explore each word and its relative weight in the topic\n",
    "\n",
    "for idx,topic in lda_model.print_topics(-1,num_words=15):\n",
    "    print(\"Topic: {} \\nWords: {}\".format(idx, topic ))\n",
    "    print(\"\\n\")"
   ]
  },
  {
   "cell_type": "code",
   "execution_count": 43,
   "id": "783bae2b",
   "metadata": {},
   "outputs": [
    {
     "name": "stdout",
     "output_type": "stream",
     "text": [
      "\n",
      "Coherence Score: 0.6130453055541988\n"
     ]
    }
   ],
   "source": [
    "#import Coherence model from gensim\n",
    "from gensim.models import CoherenceModel\n",
    "#compute coherence score\n",
    "lda_model_coherence = CoherenceModel(model=lda_model,texts=processed_docs,dictionary=dictionary,\n",
    "                                    coherence='c_v')\n",
    "coherence_lda = lda_model_coherence.get_coherence()\n",
    "print('\\nCoherence Score:',coherence_lda)"
   ]
  },
  {
   "cell_type": "markdown",
   "id": "f7651bb3",
   "metadata": {},
   "source": [
    "### Hyperparameter Tuning\n",
    "- Number of topics K\n",
    "- Dirichlet hyperparamater alpha: Document Topic Density\n",
    "- Dirichlet hyperparameter beta: Word-Topic Density"
   ]
  },
  {
   "cell_type": "code",
   "execution_count": 44,
   "id": "1f36d0c9",
   "metadata": {},
   "outputs": [],
   "source": [
    "#define a helper function\n",
    "def compute_coherence_score(corpus,dictionary,k,a):\n",
    "    #instantiate the model instance based on k,a and b\n",
    "    lda_model = gensim.models.LdaMulticore(corpus=corpus,id2word=dictionary,num_topics=k,alpha=a,\n",
    "                                           passes=10,\n",
    "                                           random_state=seed)\n",
    "    lda_model_coherence = CoherenceModel(model=lda_model,texts=processed_docs,dictionary=dictionary,coherence='c_v')\n",
    "    return lda_model_coherence.get_coherence()"
   ]
  },
  {
   "cell_type": "code",
   "execution_count": 45,
   "id": "4a08fbc1",
   "metadata": {},
   "outputs": [
    {
     "name": "stdout",
     "output_type": "stream",
     "text": [
      "Coherence Model with alpha = symmetric\n",
      "-------------------------------------------\n",
      "\n",
      "\n",
      "Coherence score with 5 topics is 0.5524774889617711\n",
      "\n",
      "\n",
      "Coherence score with 6 topics is 0.5778186963451422\n",
      "\n",
      "\n",
      "Coherence score with 7 topics is 0.5834156429368329\n",
      "\n",
      "\n",
      "Coherence score with 8 topics is 0.5717499155269417\n",
      "\n",
      "\n",
      "Coherence score with 9 topics is 0.5773290057857315\n",
      "\n",
      "\n",
      "Coherence Model with alpha = asymmetric\n",
      "-------------------------------------------\n",
      "\n",
      "\n",
      "Coherence score with 5 topics is 0.6164569193392028\n",
      "\n",
      "\n",
      "Coherence score with 6 topics is 0.5973766658201377\n",
      "\n",
      "\n",
      "Coherence score with 7 topics is 0.5952802992706328\n",
      "\n",
      "\n",
      "Coherence score with 8 topics is 0.5995738594285046\n",
      "\n",
      "\n",
      "Coherence score with 9 topics is 0.5896347807983504\n",
      "\n",
      "\n"
     ]
    }
   ],
   "source": [
    "#search for the best alpha and the number of topics --> one with the highest coherence score will be the best hyperparameter\n",
    "alpha =['symmetric','asymmetric']\n",
    "\n",
    "for x in alpha:\n",
    "    print('Coherence Model with alpha = {}'.format(x))\n",
    "    print('-------------------------------------------')\n",
    "    print('\\n')\n",
    "    for i in range(5,10):\n",
    "        score = compute_coherence_score(corpus=bow_corpus,dictionary=dictionary,k=i,a=x)        \n",
    "        print(f'Coherence score with {i} topics is {score}')\n",
    "        print('\\n')"
   ]
  },
  {
   "cell_type": "code",
   "execution_count": 46,
   "id": "7b077108",
   "metadata": {},
   "outputs": [],
   "source": [
    "'''\n",
    "Though the model with alpha='asymmetric' and with 12 topics returned the highest coherence score. For the business use and simplicity, max topics of 7\n",
    "and alpha='asymmetric' as the final model. This also returned a comparable coherence score of 0.6262\n",
    "'''\n",
    "lda_model_final = gensim.models.LdaMulticore(corpus=bow_corpus,num_topics=7,id2word=dictionary,passes=10,workers=2,alpha='asymmetric')"
   ]
  },
  {
   "cell_type": "code",
   "execution_count": 47,
   "id": "9b5d8ffe",
   "metadata": {},
   "outputs": [
    {
     "name": "stdout",
     "output_type": "stream",
     "text": [
      "[(0,\n",
      "  '0.056*\"nice\" + 0.042*\"qualiti\" + 0.031*\"perform\" + 0.028*\"awesom\" + '\n",
      "  '0.022*\"poor\" + 0.022*\"backup\" + 0.018*\"excel\" + 0.017*\"sound\" + '\n",
      "  '0.016*\"dual\" + 0.015*\"featur\"'),\n",
      " (1,\n",
      "  '0.048*\"best\" + 0.045*\"note\" + 0.039*\"price\" + 0.029*\"better\" + 0.023*\"like\" '\n",
      "  '+ 0.019*\"issu\" + 0.017*\"devic\" + 0.016*\"rang\" + 0.014*\"perform\" + '\n",
      "  '0.012*\"great\"'),\n",
      " (2,\n",
      "  '0.064*\"amazon\" + 0.048*\"worst\" + 0.035*\"servic\" + 0.035*\"return\" + '\n",
      "  '0.028*\"wast\" + 0.025*\"replac\" + 0.018*\"money\" + 0.017*\"custom\" + '\n",
      "  '0.015*\"want\" + 0.014*\"purchas\"'),\n",
      " (3,\n",
      "  '0.113*\"problem\" + 0.054*\"issu\" + 0.043*\"network\" + 0.029*\"connect\" + '\n",
      "  '0.018*\"proper\" + 0.018*\"month\" + 0.018*\"face\" + 0.018*\"hang\" + 0.017*\"time\" '\n",
      "  '+ 0.017*\"signal\"'),\n",
      " (4,\n",
      "  '0.133*\"charg\" + 0.049*\"drain\" + 0.045*\"fast\" + 0.038*\"hour\" + 0.036*\"get\" + '\n",
      "  '0.032*\"charger\" + 0.031*\"time\" + 0.029*\"turbo\" + 0.029*\"take\" + '\n",
      "  '0.019*\"issu\"'),\n",
      " (5,\n",
      "  '0.085*\"money\" + 0.068*\"screen\" + 0.067*\"worth\" + 0.053*\"valu\" + '\n",
      "  '0.050*\"glass\" + 0.032*\"gorilla\" + 0.030*\"great\" + 0.021*\"cast\" + '\n",
      "  '0.016*\"cost\" + 0.015*\"purchas\"'),\n",
      " (6,\n",
      "  '0.048*\"updat\" + 0.030*\"note\" + 0.029*\"featur\" + 0.024*\"record\" + '\n",
      "  '0.021*\"miss\" + 0.020*\"android\" + 0.020*\"video\" + 0.020*\"option\" + '\n",
      "  '0.019*\"like\" + 0.019*\"softwar\"')]\n"
     ]
    }
   ],
   "source": [
    "from pprint import pprint\n",
    "# Print the Keyword in the 7 topics\n",
    "pprint(lda_model_final.print_topics())\n",
    "doc_lda = lda_model_final[bow_corpus]"
   ]
  },
  {
   "cell_type": "markdown",
   "id": "6593e560",
   "metadata": {},
   "source": [
    "### Topic Classification\n",
    "\n",
    "- Topic 1: Nice performance for the budget (all the good reviews)\n",
    "- Topic 2: Problems with battery charge and drain\n",
    "- Topic 3: Poor quality sound and video\n",
    "- Topic 4: Reliability issues very early since purchase\n",
    "- Topic 5: Connectivity Issues\n",
    "- Topic 6: Poor customer service and replacement service\n",
    "- Topic 7: Quality and Reliability Issues like phone hangs"
   ]
  }
 ],
 "metadata": {
  "kernelspec": {
   "display_name": "Python 3 (ipykernel)",
   "language": "python",
   "name": "python3"
  },
  "language_info": {
   "codemirror_mode": {
    "name": "ipython",
    "version": 3
   },
   "file_extension": ".py",
   "mimetype": "text/x-python",
   "name": "python",
   "nbconvert_exporter": "python",
   "pygments_lexer": "ipython3",
   "version": "3.9.12"
  }
 },
 "nbformat": 4,
 "nbformat_minor": 5
}
